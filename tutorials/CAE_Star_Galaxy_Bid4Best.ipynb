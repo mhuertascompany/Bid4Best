{
  "nbformat": 4,
  "nbformat_minor": 0,
  "metadata": {
    "colab": {
      "name": "CAE_Star_Galaxy_Bid4Best.ipynb",
      "provenance": [],
      "include_colab_link": true
    },
    "kernelspec": {
      "name": "python3",
      "display_name": "Python 3"
    },
    "accelerator": "GPU"
  },
  "cells": [
    {
      "cell_type": "markdown",
      "metadata": {
        "id": "view-in-github",
        "colab_type": "text"
      },
      "source": [
        "<a href=\"https://colab.research.google.com/github/mhuertascompany/Bid4Best/blob/main/tutorials/CAE_Star_Galaxy_Bid4Best.ipynb\" target=\"_parent\"><img src=\"https://colab.research.google.com/assets/colab-badge.svg\" alt=\"Open In Colab\"/></a>"
      ]
    },
    {
      "cell_type": "markdown",
      "metadata": {
        "id": "bw7YySlOXq3H"
      },
      "source": [
        "#Unsupervised Star-Galaxy Separation with CAEs\n",
        "\n",
        "The goal of this tutorial is to build an unsupervised star-galaxy separation using Convolutional Variational Auto-Encoders. \n",
        "\n",
        "We train a convolutional autoencoder (CAE) with stamps of images of stars and galaxies (without any labels). We then explore the latent space learned by the CAE and check tha the CAE has learned that there were 2 different populations in the dataset.\n",
        "\n",
        "The dataset used for training is taken from COSMOS.\n",
        "\n",
        "---\n",
        "\n",
        "\n",
        "\n",
        "#### Before we start, make sure to open this Colab notebook in \"PlayGround Mode\" (top left) and to change the Runtime type to GPU by navigating to the toolbar and clicking Runtime -> Change runtime type and then changing Hardware accelerator to GPU\n",
        "\n",
        "---"
      ]
    },
    {
      "cell_type": "code",
      "metadata": {
        "id": "Hpv-XO8Sxgvi",
        "colab": {
          "base_uri": "https://localhost:8080/",
          "height": 34
        },
        "outputId": "38b90ba9-7ab5-4b13-dbea-7d974df2ed03"
      },
      "source": [
        "import os\n",
        "import sys\n",
        "import tarfile\n",
        "from urllib.request import urlretrieve\n",
        "import tensorflow.compat.v2 as tf\n",
        "tf.enable_v2_behavior()\n",
        "import tensorflow_datasets as tfds\n",
        "\n",
        "\n",
        "import numpy as np\n",
        "import matplotlib.pyplot as plt\n",
        "import pdb\n",
        "import umap\n",
        "\n",
        "import tensorflow_probability as tfp\n",
        "\n",
        "\n",
        "tfk = tf.keras\n",
        "tfkl = tf.keras.layers\n",
        "tfpl = tfp.layers\n",
        "tfd = tfp.distributions\n",
        "\n",
        "%pylab inline"
      ],
      "execution_count": null,
      "outputs": [
        {
          "output_type": "stream",
          "text": [
            "Populating the interactive namespace from numpy and matplotlib\n"
          ],
          "name": "stdout"
        }
      ]
    },
    {
      "cell_type": "markdown",
      "metadata": {
        "id": "u1PqZCKlVSMJ"
      },
      "source": [
        "## Data download and preparation\n",
        "\n",
        "Before mounting the drive click on [this folder](https://drive.google.com/drive/folders/1PcftgBzBySo1Ync-Wdsp9arTCJ_MfEPE?usp=sharing) and add it to your google drive by following these steps:\n",
        "\n",
        "*   Go to your drive \n",
        "*   Find shared folder (\"Shared with me\" link)\n",
        "*   Right click it\n",
        "*   Click Add to My Drive\n",
        "\n"
      ]
    },
    {
      "cell_type": "code",
      "metadata": {
        "id": "HRoY9_k5FlN6",
        "colab": {
          "base_uri": "https://localhost:8080/",
          "height": 122
        },
        "outputId": "bd09df0d-ebd5-4c36-e1ca-9a738a413a6b"
      },
      "source": [
        "from google.colab import drive\n",
        "drive.mount('/content/drive')"
      ],
      "execution_count": null,
      "outputs": [
        {
          "output_type": "stream",
          "text": [
            "Go to this URL in a browser: https://accounts.google.com/o/oauth2/auth?client_id=947318989803-6bn6qk8qdgf4n4g3pfee6491hc0brc4i.apps.googleusercontent.com&redirect_uri=urn%3aietf%3awg%3aoauth%3a2.0%3aoob&response_type=code&scope=email%20https%3a%2f%2fwww.googleapis.com%2fauth%2fdocs.test%20https%3a%2f%2fwww.googleapis.com%2fauth%2fdrive%20https%3a%2f%2fwww.googleapis.com%2fauth%2fdrive.photos.readonly%20https%3a%2f%2fwww.googleapis.com%2fauth%2fpeopleapi.readonly\n",
            "\n",
            "Enter your authorization code:\n",
            "··········\n",
            "Mounted at /content/drive\n"
          ],
          "name": "stdout"
        }
      ]
    },
    {
      "cell_type": "markdown",
      "metadata": {
        "id": "_3UL4LY330-k"
      },
      "source": [
        "### Load data"
      ]
    },
    {
      "cell_type": "code",
      "metadata": {
        "id": "_dwLGPyqey_z"
      },
      "source": [
        "pathinData=\"/content/drive/My Drive/EDE2019/star-galaxy\"\n",
        "\n",
        "\n",
        "# donwload feature vector and labels\n",
        "X_ML = np.load(pathinData+'/x_train.npy')\n",
        "#morphological class\n",
        "Y_ML = np.load(pathinData+'/y_train.npy') \n",
        "#X_ML=X_ML-np.min(X_ML)\n",
        "#print(X_ML.min())\n",
        "#X_ML=X_ML/np.max(X_ML)\n",
        "X_ML=(X_ML[:,30-14:30+14,30-14:30+14,:])\n",
        "\n",
        "for i in range(len(X_ML)):\n",
        "  X_ML[i,:,:]=(X_ML[i,:,:]-np.mean(X_ML[i,:,:]))/np.std(X_ML[i,:,:])\n",
        "\n",
        "x_train=X_ML[0:int(len(X_ML)*4/5),:,:]\n",
        "x_test=X_ML[int(len(X_ML)*4/5)::,:,:]\n",
        "\n",
        "y_train=Y_ML[0:int(len(X_ML)*4/5)]\n",
        "y_test=Y_ML[int(len(X_ML)*4/5)::]"
      ],
      "execution_count": null,
      "outputs": []
    },
    {
      "cell_type": "markdown",
      "metadata": {
        "id": "qpyzBpli33Xm"
      },
      "source": [
        "### Plot some random example\n",
        "Run multiple times to see more than one example. Class0 are stars, Class1 are galaxies."
      ]
    },
    {
      "cell_type": "code",
      "metadata": {
        "id": "xFw7AHgJGKkA",
        "colab": {
          "base_uri": "https://localhost:8080/",
          "height": 297
        },
        "outputId": "27581f6d-0344-4598-af78-71a62b09587d"
      },
      "source": [
        "randomized_inds_train = np.random.permutation(len(x_train))\n",
        "\n",
        "fig = plt.figure()\n",
        "for i,j in zip(randomized_inds_train[0:4],range(4)):\n",
        "  ax = fig.add_subplot(2, 2, j+1)\n",
        "  im = ax.imshow(X_ML[i,:,:,0])\n",
        "  plt.title('$Class$='+str(y_train[i]))\n",
        "  fig.tight_layout() \n",
        "  fig.colorbar(im)"
      ],
      "execution_count": null,
      "outputs": [
        {
          "output_type": "display_data",
          "data": {
            "image/png": "[encoded data removed]",
            "text/plain": [
              "<Figure size 432x288 with 8 Axes>"
            ]
          },
          "metadata": {
            "tags": [],
            "needs_background": "light"
          }
        }
      ]
    },
    {
      "cell_type": "markdown",
      "metadata": {
        "id": "uSg9lTx76yuh"
      },
      "source": [
        "## Model Setup\n",
        "\n",
        "The following cells set up the model in TensorFlow. We have set up a very basic Convolutional Encoder-Decoder. It does not perform super well for this problem. I encourage you to try to modify this network to achieve better results. You should in particular try to reduce more the dimension of the bottleneck (end of encoder)."
      ]
    },
    {
      "cell_type": "code",
      "metadata": {
        "id": "897YRxETQMSE"
      },
      "source": [
        "def pack_images(images, rows, cols):\n",
        "    \"\"\"Helper utility to make a field of images.\"\"\"\n",
        "    shape = tf.shape(images)\n",
        "    width = shape[-3]\n",
        "    height = shape[-2]\n",
        "    depth = shape[-1]\n",
        "    images = tf.reshape(images, (-1, width, height, depth))\n",
        "    batch = tf.shape(images)[0]\n",
        "    rows = tf.minimum(rows, batch)\n",
        "    cols = tf.minimum(batch // rows, cols)\n",
        "    images = images[:rows * cols]\n",
        "    images = tf.reshape(images, (rows, cols, width, height, depth))\n",
        "    images = tf.transpose(images, [0, 2, 1, 3, 4])\n",
        "    images = tf.reshape(images, [1, rows * width, cols * height, depth])\n",
        "    return images\n",
        "\n",
        "\n",
        "def image_tile_summary(name, tensor, rows=8, cols=8):\n",
        "    tf.summary.image(name, pack_images(tensor, rows, cols), max_outputs=1)\n",
        "\n",
        "\n",
        "input_shape = (28,28,1)\n",
        "encoded_size = 16  # THIS IS THE SIZE OF THE BOTTLENECK --> FEEL FREE TO CHANGE\n",
        "# AND EXPLORE\n",
        "base_depth = 32\n",
        "\n",
        "\n",
        "prior = tfd.Independent(tfd.Normal(loc=tf.zeros(encoded_size), scale=1),\n",
        "                        reinterpreted_batch_ndims=1)\n",
        "\n",
        "encoder = tfk.Sequential([\n",
        "    tfkl.InputLayer(input_shape=input_shape),\n",
        "    #tfkl.Lambda(lambda x: tf.cast(x, tf.float32) - 0.5),\n",
        "    tfkl.Conv2D(base_depth, 5, strides=1,\n",
        "                padding='same', activation=tf.nn.leaky_relu),\n",
        "    tfkl.Conv2D(base_depth, 5, strides=2,\n",
        "                padding='same', activation=tf.nn.leaky_relu),\n",
        "    tfkl.Conv2D(2 * base_depth, 5, strides=1,\n",
        "                padding='same', activation=tf.nn.leaky_relu),\n",
        "    tfkl.Conv2D(2 * base_depth, 5, strides=2,\n",
        "                padding='same', activation=tf.nn.leaky_relu),\n",
        "    tfkl.Conv2D(4 * encoded_size, 7, strides=1,\n",
        "                padding='valid', activation=tf.nn.leaky_relu),\n",
        "    tfkl.Flatten(),\n",
        "    tfkl.Dense(encoded_size),\n",
        "])\n",
        "\n",
        "\n",
        "\n",
        "decoder = tfk.Sequential([\n",
        "    tfkl.InputLayer(input_shape=[encoded_size]),\n",
        "    tfkl.Reshape([1, 1, encoded_size]),\n",
        "    tfkl.Conv2DTranspose(2 * base_depth, 7, strides=1,\n",
        "                         padding='valid', activation=tf.nn.leaky_relu),\n",
        "    tfkl.Conv2DTranspose(2 * base_depth, 5, strides=1,\n",
        "                         padding='same', activation=tf.nn.leaky_relu),\n",
        "    tfkl.Conv2DTranspose(2 * base_depth, 5, strides=2,\n",
        "                         padding='same', activation=tf.nn.leaky_relu),\n",
        "    tfkl.Conv2DTranspose(base_depth, 5, strides=1,\n",
        "                         padding='same', activation=tf.nn.leaky_relu),\n",
        "    tfkl.Conv2DTranspose(base_depth, 5, strides=2,\n",
        "                         padding='same', activation=tf.nn.leaky_relu),\n",
        "    tfkl.Conv2DTranspose(base_depth, 5, strides=1,\n",
        "                         padding='same', activation=tf.nn.leaky_relu),\n",
        "    tfkl.Conv2D(filters=1, kernel_size=5, strides=1,\n",
        "                padding='same', activation=None),\n",
        "])\n",
        "\n",
        "\n",
        "cae = tfk.Model(inputs=encoder.inputs,outputs=decoder(encoder.outputs[0]))\n",
        "\n",
        "\n",
        "\n",
        "\n",
        "       \n",
        "\n",
        "\n"
      ],
      "execution_count": null,
      "outputs": []
    },
    {
      "cell_type": "code",
      "metadata": {
        "id": "dMFExVtNiA-y",
        "colab": {
          "base_uri": "https://localhost:8080/",
          "height": 799
        },
        "outputId": "f9527a10-9a8a-41d8-a865-06ae7df6d0af"
      },
      "source": [
        "encoder.summary()\n",
        "decoder.summary()"
      ],
      "execution_count": null,
      "outputs": [
        {
          "output_type": "stream",
          "text": [
            "Model: \"sequential\"\n",
            "_________________________________________________________________\n",
            "Layer (type)                 Output Shape              Param #   \n",
            "=================================================================\n",
            "conv2d (Conv2D)              (None, 28, 28, 32)        832       \n",
            "_________________________________________________________________\n",
            "conv2d_1 (Conv2D)            (None, 14, 14, 32)        25632     \n",
            "_________________________________________________________________\n",
            "conv2d_2 (Conv2D)            (None, 14, 14, 64)        51264     \n",
            "_________________________________________________________________\n",
            "conv2d_3 (Conv2D)            (None, 7, 7, 64)          102464    \n",
            "_________________________________________________________________\n",
            "conv2d_4 (Conv2D)            (None, 1, 1, 64)          200768    \n",
            "_________________________________________________________________\n",
            "flatten (Flatten)            (None, 64)                0         \n",
            "_________________________________________________________________\n",
            "dense (Dense)                (None, 16)                1040      \n",
            "=================================================================\n",
            "Total params: 382,000\n",
            "Trainable params: 382,000\n",
            "Non-trainable params: 0\n",
            "_________________________________________________________________\n",
            "Model: \"sequential_1\"\n",
            "_________________________________________________________________\n",
            "Layer (type)                 Output Shape              Param #   \n",
            "=================================================================\n",
            "reshape (Reshape)            (None, 1, 1, 16)          0         \n",
            "_________________________________________________________________\n",
            "conv2d_transpose (Conv2DTran (None, 7, 7, 64)          50240     \n",
            "_________________________________________________________________\n",
            "conv2d_transpose_1 (Conv2DTr (None, 7, 7, 64)          102464    \n",
            "_________________________________________________________________\n",
            "conv2d_transpose_2 (Conv2DTr (None, 14, 14, 64)        102464    \n",
            "_________________________________________________________________\n",
            "conv2d_transpose_3 (Conv2DTr (None, 14, 14, 32)        51232     \n",
            "_________________________________________________________________\n",
            "conv2d_transpose_4 (Conv2DTr (None, 28, 28, 32)        25632     \n",
            "_________________________________________________________________\n",
            "conv2d_transpose_5 (Conv2DTr (None, 28, 28, 32)        25632     \n",
            "_________________________________________________________________\n",
            "conv2d_5 (Conv2D)            (None, 28, 28, 1)         801       \n",
            "=================================================================\n",
            "Total params: 358,465\n",
            "Trainable params: 358,465\n",
            "Non-trainable params: 0\n",
            "_________________________________________________________________\n"
          ],
          "name": "stdout"
        }
      ]
    },
    {
      "cell_type": "markdown",
      "metadata": {
        "id": "MltdwyRD8O_c"
      },
      "source": [
        "## Training the model"
      ]
    },
    {
      "cell_type": "code",
      "metadata": {
        "id": "yGFe-4etRYFX"
      },
      "source": [
        "#Define output path - This folder will contain the trained model\n",
        "pathout='star-galaxy/models/cae1'\n",
        "\n",
        "#Set RESET=True to delete all previous runs of the same model\n",
        "RESET=False\n",
        "if RESET:\n",
        "  tf.summary.FileWriterCache.clear()\n",
        "  os.system(\"rm -rf \"+ pathout)"
      ],
      "execution_count": null,
      "outputs": []
    },
    {
      "cell_type": "markdown",
      "metadata": {
        "id": "NyXCBjxYLxQP"
      },
      "source": [
        "Train first for 1000 steps. This is just a trick to run TensorBoard on the notebook and follow the training."
      ]
    },
    {
      "cell_type": "code",
      "metadata": {
        "id": "YEohb1jpRdwB",
        "colab": {
          "base_uri": "https://localhost:8080/",
          "height": 697
        },
        "outputId": "08406e98-f2ef-4a42-c422-57915a512c05"
      },
      "source": [
        "\n",
        "\n",
        "cae.compile(optimizer=tf.optimizers.Adam(learning_rate=1e-3),\n",
        "            loss='mse')\n",
        "\n",
        "hist = cae.fit(x_train,x_train,epochs=20)\n"
      ],
      "execution_count": null,
      "outputs": [
        {
          "output_type": "stream",
          "text": [
            "Epoch 1/20\n",
            "187/187 [==============================] - 2s 9ms/step - loss: 0.3882\n",
            "Epoch 2/20\n",
            "187/187 [==============================] - 2s 8ms/step - loss: 0.2417\n",
            "Epoch 3/20\n",
            "187/187 [==============================] - 2s 8ms/step - loss: 0.2375\n",
            "Epoch 4/20\n",
            "187/187 [==============================] - 2s 8ms/step - loss: 0.2301\n",
            "Epoch 5/20\n",
            "187/187 [==============================] - 2s 8ms/step - loss: 0.2265\n",
            "Epoch 6/20\n",
            "187/187 [==============================] - 2s 8ms/step - loss: 0.2266\n",
            "Epoch 7/20\n",
            "187/187 [==============================] - 2s 8ms/step - loss: 0.2313\n",
            "Epoch 8/20\n",
            "187/187 [==============================] - 2s 8ms/step - loss: 0.2226\n",
            "Epoch 9/20\n",
            "187/187 [==============================] - 2s 8ms/step - loss: 0.2214\n",
            "Epoch 10/20\n",
            "187/187 [==============================] - 2s 8ms/step - loss: 0.2212\n",
            "Epoch 11/20\n",
            "187/187 [==============================] - 2s 8ms/step - loss: 0.2217\n",
            "Epoch 12/20\n",
            "187/187 [==============================] - 2s 8ms/step - loss: 0.2192\n",
            "Epoch 13/20\n",
            "187/187 [==============================] - 2s 8ms/step - loss: 0.2187\n",
            "Epoch 14/20\n",
            "187/187 [==============================] - 2s 8ms/step - loss: 0.2188\n",
            "Epoch 15/20\n",
            "187/187 [==============================] - 2s 8ms/step - loss: 0.2288\n",
            "Epoch 16/20\n",
            "187/187 [==============================] - 2s 8ms/step - loss: 0.2165\n",
            "Epoch 17/20\n",
            "187/187 [==============================] - 2s 8ms/step - loss: 0.2148\n",
            "Epoch 18/20\n",
            "187/187 [==============================] - 2s 8ms/step - loss: 0.2133\n",
            "Epoch 19/20\n",
            "187/187 [==============================] - 2s 8ms/step - loss: 0.2117\n",
            "Epoch 20/20\n",
            "187/187 [==============================] - 2s 8ms/step - loss: 0.2100\n"
          ],
          "name": "stdout"
        }
      ]
    },
    {
      "cell_type": "markdown",
      "metadata": {
        "id": "6C2ey9JtUjpb"
      },
      "source": [
        "## Predictions and evaluation"
      ]
    },
    {
      "cell_type": "code",
      "metadata": {
        "id": "Z2T-duNTTi71",
        "colab": {
          "base_uri": "https://localhost:8080/",
          "height": 577
        },
        "outputId": "b629cac5-2c6b-4b54-c008-0bc2ae0683bb"
      },
      "source": [
        "#predict of the first 10 examples\n",
        "pred = cae(x_test[0:10])\n",
        "\n",
        "fig = plt.figure()\n",
        "for i,j in zip(range(10),range(4)):\n",
        "  ax = fig.add_subplot(2, 2, j+1)\n",
        "  im = ax.imshow(x_test[i,:,:,0])\n",
        "  plt.title('$Class$='+str(y_test[i]))\n",
        "  fig.tight_layout() \n",
        "  fig.colorbar(im)\n",
        "\n",
        "fig = plt.figure()\n",
        "for i,j in zip(range(10),range(4)):\n",
        "  ax = fig.add_subplot(2, 2, j+1)\n",
        "  im = ax.imshow(pred[i,:,:,0])\n",
        "  plt.title('$Class$='+str(y_test[i]))\n",
        "  fig.tight_layout() \n",
        "  fig.colorbar(im)"
      ],
      "execution_count": null,
      "outputs": [
        {
          "output_type": "display_data",
          "data": {
            "image/png": "[encoded data removed]",
            "text/plain": [
              "<Figure size 432x288 with 8 Axes>"
            ]
          },
          "metadata": {
            "tags": [],
            "needs_background": "light"
          }
        },
        {
          "output_type": "display_data",
          "data": {
            "image/png": "[encoded data removed]",
            "text/plain": [
              "<Figure size 432x288 with 8 Axes>"
            ]
          },
          "metadata": {
            "tags": [],
            "needs_background": "light"
          }
        }
      ]
    },
    {
      "cell_type": "code",
      "metadata": {
        "id": "KiZd6NsZnvOq",
        "colab": {
          "base_uri": "https://localhost:8080/",
          "height": 326
        },
        "outputId": "f66e9f48-bc4d-45fb-ef3f-2f5d54f356ef"
      },
      "source": [
        "# Now, let's explore the latent space\n",
        "z = encoder(x_test)\n",
        "print(\"shape of encoded space:\", z.shape)\n",
        "\n",
        "# since it is 16 dimensions, we are trying to visualize it with UMAP\n",
        "reducer = umap.UMAP()\n",
        "embedding = reducer.fit_transform(z)\n",
        "embedding.shape\n",
        "\n",
        "xlabel(\"UMAP1\", fontsize=20)\n",
        "ylabel(\"UMAP2\", fontsize=20)\n",
        "\n",
        "scatter(embedding[y_test==1,1],embedding[y_test==1,0],color='blue',s=1,label='Galaxies')\n",
        "scatter(embedding[y_test==0,1],embedding[y_test==0,0],color='red',s=1,label='Stars')\n",
        "legend(fontsize=14)\n",
        "\n"
      ],
      "execution_count": null,
      "outputs": [
        {
          "output_type": "stream",
          "text": [
            "shape of encoded space: (1489, 16)\n"
          ],
          "name": "stdout"
        },
        {
          "output_type": "execute_result",
          "data": {
            "text/plain": [
              "<matplotlib.legend.Legend at 0x7f9b356303c8>"
            ]
          },
          "metadata": {
            "tags": []
          },
          "execution_count": 16
        },
        {
          "output_type": "display_data",
          "data": {
            "image/png": "[encoded data removed]",
            "text/plain": [
              "<Figure size 432x288 with 1 Axes>"
            ]
          },
          "metadata": {
            "tags": [],
            "needs_background": "light"
          }
        }
      ]
    },
    {
      "cell_type": "markdown",
      "metadata": {
        "id": "NCyEH_j3ogoD"
      },
      "source": [
        "## Clustering with GMMs\n",
        "\n",
        "\n",
        "\n"
      ]
    },
    {
      "cell_type": "markdown",
      "metadata": {
        "id": "B1J4w5RpaA4W"
      },
      "source": [
        "Can you run a GMM in the encoded space? Look at the scikit learn documentation for GMMs. Use it to compute a classification accuracy. What is the fraction of stars classified as galaxies with this approach. The requirement for Euclid is less than 1%... \n",
        "\n"
      ]
    }
  ]
}